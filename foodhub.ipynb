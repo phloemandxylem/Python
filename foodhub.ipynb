# import libraries for data manipulation
import numpy as np
import pandas as pd

# import libraries for data visualization
import matplotlib.pyplot as plt
import seaborn as sns

df = pd.read_csv('foodhub_order.csv')
