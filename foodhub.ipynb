import numpy as np
import pandas as pd

import matplotlib.pyplot as plt
import seaborn as sns

df = pd.read_csv('foodhub_order.csv')

https://colab.research.google.com/drive/1xr_pNmA2n8qbrVa1513FZkmFl8wLzK4M#scrollTo=prTut6_AmrUL&line=4&uniqifier=1
